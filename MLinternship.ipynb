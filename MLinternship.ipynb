{
  "nbformat": 4,
  "nbformat_minor": 0,
  "metadata": {
    "colab": {
      "provenance": [],
      "authorship_tag": "ABX9TyN5VQcjz+mooDH9rlfpbAus",
      "include_colab_link": true
    },
    "kernelspec": {
      "name": "python3",
      "display_name": "Python 3"
    },
    "language_info": {
      "name": "python"
    }
  },
  "cells": [
    {
      "cell_type": "markdown",
      "metadata": {
        "id": "view-in-github",
        "colab_type": "text"
      },
      "source": [
        "<a href=\"https://colab.research.google.com/github/ethanmathias/Projects/blob/master/MLinternship.ipynb\" target=\"_parent\"><img src=\"https://colab.research.google.com/assets/colab-badge.svg\" alt=\"Open In Colab\"/></a>"
      ]
    },
    {
      "cell_type": "code",
      "source": [
        "# this is answers to 1a and 1b and 1c \n",
        "import statistics\n",
        "\n",
        "def mean(a):\n",
        "   a = sum(a) / len(a)\n",
        "   return a\n",
        "\n",
        "def mode(set1):\n",
        "  return (statistics.mode(set1))\n",
        "  \n",
        "def std(set1):\n",
        "  return (statistics.stdev(set1))\n",
        "\n",
        "def numberofelements(set1):\n",
        "  return len(set1)\n",
        "\n",
        "def cancerchances(set1):\n",
        "  counter = 0\n",
        "  for i in set1:\n",
        "    if i > 4:\n",
        "      counter = counter+1\n",
        "  return counter/len(set1)  #returns percent of gene being cancerous\n",
        "\n",
        "# A Class defines the properties and behavior of an object\n",
        "# A Class is different from a function because it is used to create objects wheras a function is just used to impliment behavior\n",
        "# If an Animal is a class it might have objects such as Dog, Cat, Mouse, Horse, etc.\n",
        "# The attributes of a class give the strucutre and the contents and the methors give the behaviors\n",
        "\n",
        "test =  [2, 5.99342831, 4.7234714 , 6.29537708, 8.04605971, 4.53169325, 4.53172609, 8.15842563, 6.53486946, 4.06105123, 6.08512009,6.29537708];\n",
        "\n",
        "print(cancerchances(test))"
      ],
      "metadata": {
        "colab": {
          "base_uri": "https://localhost:8080/"
        },
        "id": "UjzpCCxf4Ejk",
        "outputId": "cf70eb53-4baf-41ef-f9c4-76a0d0ff8775"
      },
      "execution_count": 25,
      "outputs": [
        {
          "output_type": "stream",
          "name": "stdout",
          "text": [
            "11\n",
            "0.9166666666666666\n"
          ]
        }
      ]
    },
    {
      "cell_type": "code",
      "source": [
        "#this is the optional portion of 1c\n",
        "class Gene:\n",
        "\n",
        "    @classmethod\n",
        "    def calculate_cancerchances(cls, genelist1):\n",
        "        counter = 0\n",
        "        for i in genelist1:\n",
        "            if i > 4:\n",
        "              counter = counter+1\n",
        "        return counter/len(genelist1) \n",
        "    \n",
        "chanceofcancer = Gene.calculate_cancerchances([2, 5.99342831, 4.7234714 , 6.29537708, 8.04605971, 4.53169325, 4.53172609, 8.15842563, 6.53486946, 4.06105123, 6.08512009,6.29537708])\n",
        "print(chanceofcancer)"
      ],
      "metadata": {
        "colab": {
          "base_uri": "https://localhost:8080/"
        },
        "id": "LBRrbKnUwQVh",
        "outputId": "b733b6c9-2bfa-412c-f884-c7e11948fc44"
      },
      "execution_count": 28,
      "outputs": [
        {
          "output_type": "stream",
          "name": "stdout",
          "text": [
            "0.9166666666666666\n"
          ]
        }
      ]
    },
    {
      "cell_type": "code",
      "source": [
        "#this is the answer to 1d\n",
        "from matplotlib import pyplot as histogram\n",
        "\n",
        "Histovalues = [19.47,13.76,20.83,28.71,12.89,12.89,29.21,21.91,10.77,19.88,10.83,10.81,17.18,-2.22,-\n",
        "0.52,9.94,5.88,17.83,6.83,2.29,28.19,12.97,15.61,2.18,10.1,16.0,4.64,18.38,9.59,12.37,9.58,31.67,14.88,5.48,22.4,4.01,16.88,-\n",
        "2.64,3.05,16.77,21.65,16.54,13.96,12.29,1.69,8.52,10.85,24.51,18.09,-\n",
        "0.87,17.92,11.53,8.91,20.51,24.28,23.38,7.45,12.22,17.98,23.78,10.69,13.33,5.04,4.23,22.31,27.21,14.35,24.03,18.25,9.19,18.25,28.84,\n",
        "14.68,29.08,-8.58,22.4,15.78,12.31,15.83,-\n",
        "2.89,13.02,18.21,28.3,10.34,7.72,10.48,23.24,17.96,10.23,19.62,15.87,23.72,8.68,12.05,11.47,1.83,17.67,17.35,15.05,12.89]\n",
        "\n",
        "histogram.hist(Histovalues,10)\n",
        "histogram.show()\n",
        "\n"
      ],
      "metadata": {
        "colab": {
          "base_uri": "https://localhost:8080/",
          "height": 430
        },
        "id": "rcoLj4sZydGQ",
        "outputId": "6d067b0a-2408-424c-8cbf-a14c868e5c70"
      },
      "execution_count": 30,
      "outputs": [
        {
          "output_type": "display_data",
          "data": {
            "text/plain": [
              "<Figure size 640x480 with 1 Axes>"
            ],
            "image/png": "[encoded data removed]"
          },
          "metadata": {}
        }
      ]
    },
    {
      "cell_type": "markdown",
      "source": [
        "#Answer to 2A\n",
        "What is machine learning?\n",
        "- Machine learning is about extracting knowledge from data. It is a research field at the intersection of statistics, artificial intelligence, and computer science and is also known as predictive analytics or statistical learning.\n",
        "\n",
        "How does machine learning differ from other\n",
        "algorithms? \n",
        "- ML models are able to adapt to new data and improve their performance the more they learn, in comparison to algorithms, which are unable to adapt.\n",
        "\n",
        "What is the difference between supervised and unsupervised learning?\n",
        "- Supervised learning involves training a machine learning model on a labeled dataset, where each example in the dataset is accompanied by a known output or label. The goal of the model is to learn to predict the correct output for new, unseen inputs. \n",
        "- Unsupervised learning, on the other hand, involves training a model on an unlabeled dataset, where there are no predefined output or labels. The goal of the model is to find patterns or structure in the data.\n",
        "\n",
        "Examples of Supervised and Unsupervised learning?\n",
        "Supervised: Predicting house prices based on location involves feeding the model a location example and its accompanying house price.\n",
        "\n",
        "Unsupervised: Detecting theft in a bank account list using an unsupervised model involves analyzing patterns in the list and identifying instances where the pattern does not follow the expected behavior (indicating potential instances of stolen money).\n",
        "\n",
        "\n"
      ],
      "metadata": {
        "id": "Y6Y_9uw2z_0V"
      }
    }
  ]
}